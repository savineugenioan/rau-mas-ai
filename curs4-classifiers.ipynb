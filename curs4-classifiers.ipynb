{
 "cells": [
  {
   "cell_type": "code",
   "execution_count": 1,
   "metadata": {},
   "outputs": [
    {
     "name": "stdout",
     "output_type": "stream",
     "text": [
      "We have 178 data points available\n"
     ]
    }
   ],
   "source": [
    "from sklearn.datasets import load_wine\n",
    "wine_data = load_wine()\n",
    "X, y = wine_data.data, wine_data.target\n",
    "print(f\"We have {len(X)} data points available\")"
   ]
  },
  {
   "cell_type": "code",
   "execution_count": 18,
   "metadata": {},
   "outputs": [
    {
     "name": "stdout",
     "output_type": "stream",
     "text": [
      "We have 142 data points available\n",
      "We have 36 data points available\n"
     ]
    }
   ],
   "source": [
    "from sklearn.model_selection import train_test_split\n",
    "X_train, X_test, y_train, y_test = train_test_split(X, y, test_size=0.20, random_state=42)\n",
    "print(f\"We have {len(X_train)} data points available\")\n",
    "print(f\"We have {len(X_test)} data points available\")"
   ]
  },
  {
   "cell_type": "code",
   "execution_count": 14,
   "metadata": {},
   "outputs": [],
   "source": [
    "from sklearn.tree import DecisionTreeClassifier\n",
    "clf = DecisionTreeClassifier(max_depth=3)\n",
    "clf = clf.fit(X_train, y_train)"
   ]
  },
  {
   "cell_type": "code",
   "execution_count": 15,
   "metadata": {},
   "outputs": [],
   "source": [
    "y_pred_train = clf.predict(X_train)\n",
    "y_pred_test = clf.predict(X_test)"
   ]
  },
  {
   "cell_type": "code",
   "execution_count": 16,
   "metadata": {},
   "outputs": [
    {
     "name": "stdout",
     "output_type": "stream",
     "text": [
      "Training accuracy: 99.3 %\n",
      "Test accuracy: 94.44 %\n"
     ]
    }
   ],
   "source": [
    "from sklearn.metrics import accuracy_score\n",
    "acc_train = accuracy_score(y_pred=y_pred_train, y_true=y_train) * 100\n",
    "acc_test = accuracy_score(y_pred=y_pred_test, y_true=y_test) * 100\n",
    "\n",
    "print(f\"Training accuracy: {round(acc_train, 2)} %\")\n",
    "print(f\"Test accuracy: {round(acc_test, 2)} %\")"
   ]
  },
  {
   "cell_type": "code",
   "execution_count": 17,
   "metadata": {},
   "outputs": [
    {
     "data": {
      "text/plain": [
       "[Text(167.40000000000003, 190.26, 'X[9] <= 3.82\\ngini = 0.659\\nsamples = 142\\nvalue = [45, 57, 40]'),\n",
       " Text(100.44000000000001, 135.9, 'X[12] <= 1002.5\\ngini = 0.109\\nsamples = 52\\nvalue = [3, 49, 0]'),\n",
       " Text(66.96000000000001, 81.53999999999999, 'X[2] <= 3.07\\ngini = 0.039\\nsamples = 50\\nvalue = [1, 49, 0]'),\n",
       " Text(33.480000000000004, 27.180000000000007, 'gini = 0.0\\nsamples = 49\\nvalue = [0, 49, 0]'),\n",
       " Text(100.44000000000001, 27.180000000000007, 'gini = 0.0\\nsamples = 1\\nvalue = [1, 0, 0]'),\n",
       " Text(133.92000000000002, 81.53999999999999, 'gini = 0.0\\nsamples = 2\\nvalue = [2, 0, 0]'),\n",
       " Text(234.36, 135.9, 'X[6] <= 1.4\\ngini = 0.577\\nsamples = 90\\nvalue = [42, 8, 40]'),\n",
       " Text(200.88000000000002, 81.53999999999999, 'gini = 0.0\\nsamples = 40\\nvalue = [0, 0, 40]'),\n",
       " Text(267.84000000000003, 81.53999999999999, 'X[12] <= 724.5\\ngini = 0.269\\nsamples = 50\\nvalue = [42, 8, 0]'),\n",
       " Text(234.36, 27.180000000000007, 'gini = 0.198\\nsamples = 9\\nvalue = [1, 8, 0]'),\n",
       " Text(301.32000000000005, 27.180000000000007, 'gini = 0.0\\nsamples = 41\\nvalue = [41, 0, 0]')]"
      ]
     },
     "execution_count": 17,
     "metadata": {},
     "output_type": "execute_result"
    },
    {
     "data": {
      "image/png": "[encoded data removed]",
      "text/plain": [
       "<Figure size 432x288 with 1 Axes>"
      ]
     },
     "metadata": {
      "needs_background": "light"
     },
     "output_type": "display_data"
    }
   ],
   "source": [
    "import matplotlib.pyplot as plt\n",
    "%matplotlib inline\n",
    "\n",
    "from sklearn.tree import plot_tree\n",
    "plot_tree(clf, filled=True)"
   ]
  },
  {
   "cell_type": "code",
   "execution_count": 19,
   "metadata": {},
   "outputs": [],
   "source": [
    "from sklearn.svm import SVC"
   ]
  },
  {
   "cell_type": "code",
   "execution_count": 37,
   "metadata": {},
   "outputs": [
    {
     "data": {
      "text/plain": [
       "SVC(C=1000, degree=2)"
      ]
     },
     "execution_count": 37,
     "metadata": {},
     "output_type": "execute_result"
    }
   ],
   "source": [
    "svm = SVC(C=1000, kernel='rbf', degree=2)\n",
    "svm.fit(X_train, y_train)"
   ]
  },
  {
   "cell_type": "code",
   "execution_count": 38,
   "metadata": {},
   "outputs": [],
   "source": [
    "y_pred_train_svm = svm.predict(X_train)\n",
    "y_pred_test_svm = svm.predict(X_test)"
   ]
  },
  {
   "cell_type": "code",
   "execution_count": 39,
   "metadata": {},
   "outputs": [
    {
     "name": "stdout",
     "output_type": "stream",
     "text": [
      "Training accuracy: 92.96 %\n",
      "Test accuracy: 97.22 %\n"
     ]
    }
   ],
   "source": [
    "acc_train_svm = accuracy_score(y_pred=y_pred_train_svm, y_true=y_train) * 100\n",
    "acc_test_svm = accuracy_score(y_pred=y_pred_test_svm, y_true=y_test) * 100\n",
    "\n",
    "print(f\"Training accuracy: {round(acc_train_svm, 2)} %\")\n",
    "print(f\"Test accuracy: {round(acc_test_svm, 2)} %\")"
   ]
  },
  {
   "cell_type": "code",
   "execution_count": null,
   "metadata": {},
   "outputs": [],
   "source": []
  }
 ],
 "metadata": {
  "kernelspec": {
   "display_name": "Python 3",
   "language": "python",
   "name": "python3"
  },
  "language_info": {
   "codemirror_mode": {
    "name": "ipython",
    "version": 3
   },
   "file_extension": ".py",
   "mimetype": "text/x-python",
   "name": "python",
   "nbconvert_exporter": "python",
   "pygments_lexer": "ipython3",
   "version": "3.8.3"
  }
 },
 "nbformat": 4,
 "nbformat_minor": 4
}
