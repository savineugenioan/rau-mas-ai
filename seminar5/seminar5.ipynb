{
 "metadata": {
  "language_info": {
   "codemirror_mode": {
    "name": "ipython",
    "version": 3
   },
   "file_extension": ".py",
   "mimetype": "text/x-python",
   "name": "python",
   "nbconvert_exporter": "python",
   "pygments_lexer": "ipython3",
   "version": "3.8.3-final"
  },
  "orig_nbformat": 2,
  "kernelspec": {
   "name": "python3",
   "display_name": "Python 3.8.3 64-bit ('base': conda)",
   "metadata": {
    "interpreter": {
     "hash": "dca0ade3e726a953b501b15e8e990130d2b7799f14cfd9f4271676035ebe5511"
    }
   }
  }
 },
 "nbformat": 4,
 "nbformat_minor": 2,
 "cells": [
  {
   "cell_type": "code",
   "execution_count": 1,
   "metadata": {},
   "outputs": [],
   "source": [
    "import numpy as np \n",
    "from tensorflow import keras \n",
    "from tensorflow.keras import layers"
   ]
  },
  {
   "cell_type": "code",
   "execution_count": 25,
   "metadata": {},
   "outputs": [
    {
     "output_type": "stream",
     "name": "stdout",
     "text": [
      "Downloading data from https://storage.googleapis.com/tensorflow/tf-keras-datasets/train-labels-idx1-ubyte.gz\n",
      "32768/29515 [=================================] - 0s 1us/step\n",
      "40960/29515 [=========================================] - 0s 1us/step\n",
      "Downloading data from https://storage.googleapis.com/tensorflow/tf-keras-datasets/train-images-idx3-ubyte.gz\n",
      "26427392/26421880 [==============================] - 14s 1us/step\n",
      "26435584/26421880 [==============================] - 14s 1us/step\n",
      "Downloading data from https://storage.googleapis.com/tensorflow/tf-keras-datasets/t10k-labels-idx1-ubyte.gz\n",
      "16384/5148 [===============================================================================================] - 0s 0us/step\n",
      "Downloading data from https://storage.googleapis.com/tensorflow/tf-keras-datasets/t10k-images-idx3-ubyte.gz\n",
      "4423680/4422102 [==============================] - 2s 1us/step\n",
      "4431872/4422102 [==============================] - 2s 1us/step\n"
     ]
    }
   ],
   "source": [
    "num_classes = 10\n",
    "input_shape = (28, 28, 1)\n",
    "(X_train, y_train), (X_test, y_test) = keras.datasets.fashion_mnist.load_data()"
   ]
  },
  {
   "cell_type": "code",
   "execution_count": 31,
   "metadata": {},
   "outputs": [
    {
     "output_type": "display_data",
     "data": {
      "text/plain": "<Figure size 432x288 with 1 Axes>",
      "image/svg+xml": "<?xml version=\"1.0\" encoding=\"utf-8\" standalone=\"no\"?>\n<!DOCTYPE svg PUBLIC \"-//W3C//DTD SVG 1.1//EN\"\n  \"http://www.w3.org/Graphics/SVG/1.1/DTD/svg11.dtd\">\n<svg xmlns:xlink=\"http://www.w3.org/1999/xlink\" width=\"251.565pt\" height=\"248.518125pt\" viewBox=\"0 0 251.565 248.518125\" xmlns=\"http://www.w3.org/2000/svg\" version=\"1.1\">\n <metadata>\n  <rdf:RDF xmlns:dc=\"http://purl.org/dc/elements/1.1/\" xmlns:cc=\"http://creativecommons.org/ns#\" xmlns:rdf=\"http://www.w3.org/1999/02/22-rdf-syntax-ns#\">\n   <cc:Work>\n    <dc:type rdf:resource=\"http://purl.org/dc/dcmitype/StillImage\"/>\n    <dc:date>2021-12-03T17:31:45.087686</dc:date>\n    <dc:format>image/svg+xml</dc:format>\n    <dc:creator>\n     <cc:Agent>\n      <dc:title>Matplotlib v3.5.0, https://matplotlib.org/</dc:title>\n     </cc:Agent>\n    </dc:creator>\n   </cc:Work>\n  </rdf:RDF>\n </metadata>\n <defs>\n  <style type=\"text/css\">*{stroke-linejoin: round; stroke-linecap: butt}</style>\n </defs>\n <g id=\"figure_1\">\n  <g id=\"patch_1\">\n   <path d=\"M 0 248.518125 \nL 251.565 248.518125 \nL 251.565 0 \nL 0 0 \nL 0 248.518125 \nz\n\" style=\"fill: none\"/>\n  </g>\n  <g id=\"axes_1\">\n   <g id=\"patch_2\">\n    <path d=\"M 26.925 224.64 \nL 244.365 224.64 \nL 244.365 7.2 \nL 26.925 7.2 \nz\n\" style=\"fill: #ffffff\"/>\n   </g>\n   <g clip-path=\"url(#ped432067b5)\">\n    <image xlink:href=\"data:image/png;base64,\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\" id=\"image42dac50783\" transform=\"scale(1 -1)translate(0 -218)\" x=\"26.925\" y=\"-6.64\" width=\"218\" height=\"218\"/>\n   </g>\n   <g id=\"matplotlib.axis_1\">\n    <g id=\"xtick_1\">\n     <g id=\"line2d_1\">\n      <defs>\n       <path id=\"mbd65d4e4b5\" d=\"M 0 0 \nL 0 3.5 \n\" style=\"stroke: #000000; stroke-width: 0.8\"/>\n      </defs>\n      <g>\n       <use xlink:href=\"#mbd65d4e4b5\" x=\"30.807857\" y=\"224.64\" style=\"stroke: #000000; stroke-width: 0.8\"/>\n      </g>\n     </g>\n     <g id=\"text_1\">\n      <!-- 0 -->\n      <g transform=\"translate(27.626607 239.238437)scale(0.1 -0.1)\">\n       <defs>\n        <path id=\"DejaVuSans-30\" d=\"M 2034 4250 \nQ 1547 4250 1301 3770 \nQ 1056 3291 1056 2328 \nQ 1056 1369 1301 889 \nQ 1547 409 2034 409 \nQ 2525 409 2770 889 \nQ 3016 1369 3016 2328 \nQ 3016 3291 2770 3770 \nQ 2525 4250 2034 4250 \nz\nM 2034 4750 \nQ 2819 4750 3233 4129 \nQ 3647 3509 3647 2328 \nQ 3647 1150 3233 529 \nQ 2819 -91 2034 -91 \nQ 1250 -91 836 529 \nQ 422 1150 422 2328 \nQ 422 3509 836 4129 \nQ 1250 4750 2034 4750 \nz\n\" transform=\"scale(0.015625)\"/>\n       </defs>\n       <use xlink:href=\"#DejaVuSans-30\"/>\n      </g>\n     </g>\n    </g>\n    <g id=\"xtick_2\">\n     <g id=\"line2d_2\">\n      <g>\n       <use xlink:href=\"#mbd65d4e4b5\" x=\"69.636429\" y=\"224.64\" style=\"stroke: #000000; stroke-width: 0.8\"/>\n      </g>\n     </g>\n     <g id=\"text_2\">\n      <!-- 5 -->\n      <g transform=\"translate(66.455179 239.238437)scale(0.1 -0.1)\">\n       <defs>\n        <path id=\"DejaVuSans-35\" d=\"M 691 4666 \nL 3169 4666 \nL 3169 4134 \nL 1269 4134 \nL 1269 2991 \nQ 1406 3038 1543 3061 \nQ 1681 3084 1819 3084 \nQ 2600 3084 3056 2656 \nQ 3513 2228 3513 1497 \nQ 3513 744 3044 326 \nQ 2575 -91 1722 -91 \nQ 1428 -91 1123 -41 \nQ 819 9 494 109 \nL 494 744 \nQ 775 591 1075 516 \nQ 1375 441 1709 441 \nQ 2250 441 2565 725 \nQ 2881 1009 2881 1497 \nQ 2881 1984 2565 2268 \nQ 2250 2553 1709 2553 \nQ 1456 2553 1204 2497 \nQ 953 2441 691 2322 \nL 691 4666 \nz\n\" transform=\"scale(0.015625)\"/>\n       </defs>\n       <use xlink:href=\"#DejaVuSans-35\"/>\n      </g>\n     </g>\n    </g>\n    <g id=\"xtick_3\">\n     <g id=\"line2d_3\">\n      <g>\n       <use xlink:href=\"#mbd65d4e4b5\" x=\"108.465\" y=\"224.64\" style=\"stroke: #000000; stroke-width: 0.8\"/>\n      </g>\n     </g>\n     <g id=\"text_3\">\n      <!-- 10 -->\n      <g transform=\"translate(102.1025 239.238437)scale(0.1 -0.1)\">\n       <defs>\n        <path id=\"DejaVuSans-31\" d=\"M 794 531 \nL 1825 531 \nL 1825 4091 \nL 703 3866 \nL 703 4441 \nL 1819 4666 \nL 2450 4666 \nL 2450 531 \nL 3481 531 \nL 3481 0 \nL 794 0 \nL 794 531 \nz\n\" transform=\"scale(0.015625)\"/>\n       </defs>\n       <use xlink:href=\"#DejaVuSans-31\"/>\n       <use xlink:href=\"#DejaVuSans-30\" x=\"63.623047\"/>\n      </g>\n     </g>\n    </g>\n    <g id=\"xtick_4\">\n     <g id=\"line2d_4\">\n      <g>\n       <use xlink:href=\"#mbd65d4e4b5\" x=\"147.293571\" y=\"224.64\" style=\"stroke: #000000; stroke-width: 0.8\"/>\n      </g>\n     </g>\n     <g id=\"text_4\">\n      <!-- 15 -->\n      <g transform=\"translate(140.931071 239.238437)scale(0.1 -0.1)\">\n       <use xlink:href=\"#DejaVuSans-31\"/>\n       <use xlink:href=\"#DejaVuSans-35\" x=\"63.623047\"/>\n      </g>\n     </g>\n    </g>\n    <g id=\"xtick_5\">\n     <g id=\"line2d_5\">\n      <g>\n       <use xlink:href=\"#mbd65d4e4b5\" x=\"186.122143\" y=\"224.64\" style=\"stroke: #000000; stroke-width: 0.8\"/>\n      </g>\n     </g>\n     <g id=\"text_5\">\n      <!-- 20 -->\n      <g transform=\"translate(179.759643 239.238437)scale(0.1 -0.1)\">\n       <defs>\n        <path id=\"DejaVuSans-32\" d=\"M 1228 531 \nL 3431 531 \nL 3431 0 \nL 469 0 \nL 469 531 \nQ 828 903 1448 1529 \nQ 2069 2156 2228 2338 \nQ 2531 2678 2651 2914 \nQ 2772 3150 2772 3378 \nQ 2772 3750 2511 3984 \nQ 2250 4219 1831 4219 \nQ 1534 4219 1204 4116 \nQ 875 4013 500 3803 \nL 500 4441 \nQ 881 4594 1212 4672 \nQ 1544 4750 1819 4750 \nQ 2544 4750 2975 4387 \nQ 3406 4025 3406 3419 \nQ 3406 3131 3298 2873 \nQ 3191 2616 2906 2266 \nQ 2828 2175 2409 1742 \nQ 1991 1309 1228 531 \nz\n\" transform=\"scale(0.015625)\"/>\n       </defs>\n       <use xlink:href=\"#DejaVuSans-32\"/>\n       <use xlink:href=\"#DejaVuSans-30\" x=\"63.623047\"/>\n      </g>\n     </g>\n    </g>\n    <g id=\"xtick_6\">\n     <g id=\"line2d_6\">\n      <g>\n       <use xlink:href=\"#mbd65d4e4b5\" x=\"224.950714\" y=\"224.64\" style=\"stroke: #000000; stroke-width: 0.8\"/>\n      </g>\n     </g>\n     <g id=\"text_6\">\n      <!-- 25 -->\n      <g transform=\"translate(218.588214 239.238437)scale(0.1 -0.1)\">\n       <use xlink:href=\"#DejaVuSans-32\"/>\n       <use xlink:href=\"#DejaVuSans-35\" x=\"63.623047\"/>\n      </g>\n     </g>\n    </g>\n   </g>\n   <g id=\"matplotlib.axis_2\">\n    <g id=\"ytick_1\">\n     <g id=\"line2d_7\">\n      <defs>\n       <path id=\"m4a56243b73\" d=\"M 0 0 \nL -3.5 0 \n\" style=\"stroke: #000000; stroke-width: 0.8\"/>\n      </defs>\n      <g>\n       <use xlink:href=\"#m4a56243b73\" x=\"26.925\" y=\"11.082857\" style=\"stroke: #000000; stroke-width: 0.8\"/>\n      </g>\n     </g>\n     <g id=\"text_7\">\n      <!-- 0 -->\n      <g transform=\"translate(13.5625 14.882076)scale(0.1 -0.1)\">\n       <use xlink:href=\"#DejaVuSans-30\"/>\n      </g>\n     </g>\n    </g>\n    <g id=\"ytick_2\">\n     <g id=\"line2d_8\">\n      <g>\n       <use xlink:href=\"#m4a56243b73\" x=\"26.925\" y=\"49.911429\" style=\"stroke: #000000; stroke-width: 0.8\"/>\n      </g>\n     </g>\n     <g id=\"text_8\">\n      <!-- 5 -->\n      <g transform=\"translate(13.5625 53.710647)scale(0.1 -0.1)\">\n       <use xlink:href=\"#DejaVuSans-35\"/>\n      </g>\n     </g>\n    </g>\n    <g id=\"ytick_3\">\n     <g id=\"line2d_9\">\n      <g>\n       <use xlink:href=\"#m4a56243b73\" x=\"26.925\" y=\"88.74\" style=\"stroke: #000000; stroke-width: 0.8\"/>\n      </g>\n     </g>\n     <g id=\"text_9\">\n      <!-- 10 -->\n      <g transform=\"translate(7.2 92.539219)scale(0.1 -0.1)\">\n       <use xlink:href=\"#DejaVuSans-31\"/>\n       <use xlink:href=\"#DejaVuSans-30\" x=\"63.623047\"/>\n      </g>\n     </g>\n    </g>\n    <g id=\"ytick_4\">\n     <g id=\"line2d_10\">\n      <g>\n       <use xlink:href=\"#m4a56243b73\" x=\"26.925\" y=\"127.568571\" style=\"stroke: #000000; stroke-width: 0.8\"/>\n      </g>\n     </g>\n     <g id=\"text_10\">\n      <!-- 15 -->\n      <g transform=\"translate(7.2 131.36779)scale(0.1 -0.1)\">\n       <use xlink:href=\"#DejaVuSans-31\"/>\n       <use xlink:href=\"#DejaVuSans-35\" x=\"63.623047\"/>\n      </g>\n     </g>\n    </g>\n    <g id=\"ytick_5\">\n     <g id=\"line2d_11\">\n      <g>\n       <use xlink:href=\"#m4a56243b73\" x=\"26.925\" y=\"166.397143\" style=\"stroke: #000000; stroke-width: 0.8\"/>\n      </g>\n     </g>\n     <g id=\"text_11\">\n      <!-- 20 -->\n      <g transform=\"translate(7.2 170.196362)scale(0.1 -0.1)\">\n       <use xlink:href=\"#DejaVuSans-32\"/>\n       <use xlink:href=\"#DejaVuSans-30\" x=\"63.623047\"/>\n      </g>\n     </g>\n    </g>\n    <g id=\"ytick_6\">\n     <g id=\"line2d_12\">\n      <g>\n       <use xlink:href=\"#m4a56243b73\" x=\"26.925\" y=\"205.225714\" style=\"stroke: #000000; stroke-width: 0.8\"/>\n      </g>\n     </g>\n     <g id=\"text_12\">\n      <!-- 25 -->\n      <g transform=\"translate(7.2 209.024933)scale(0.1 -0.1)\">\n       <use xlink:href=\"#DejaVuSans-32\"/>\n       <use xlink:href=\"#DejaVuSans-35\" x=\"63.623047\"/>\n      </g>\n     </g>\n    </g>\n   </g>\n   <g id=\"patch_3\">\n    <path d=\"M 26.925 224.64 \nL 26.925 7.2 \n\" style=\"fill: none; stroke: #000000; stroke-width: 0.8; stroke-linejoin: miter; stroke-linecap: square\"/>\n   </g>\n   <g id=\"patch_4\">\n    <path d=\"M 244.365 224.64 \nL 244.365 7.2 \n\" style=\"fill: none; stroke: #000000; stroke-width: 0.8; stroke-linejoin: miter; stroke-linecap: square\"/>\n   </g>\n   <g id=\"patch_5\">\n    <path d=\"M 26.925 224.64 \nL 244.365 224.64 \n\" style=\"fill: none; stroke: #000000; stroke-width: 0.8; stroke-linejoin: miter; stroke-linecap: square\"/>\n   </g>\n   <g id=\"patch_6\">\n    <path d=\"M 26.925 7.2 \nL 244.365 7.2 \n\" style=\"fill: none; stroke: #000000; stroke-width: 0.8; stroke-linejoin: miter; stroke-linecap: square\"/>\n   </g>\n  </g>\n </g>\n <defs>\n  <clipPath id=\"ped432067b5\">\n   <rect x=\"26.925\" y=\"7.2\" width=\"217.44\" height=\"217.44\"/>\n  </clipPath>\n </defs>\n</svg>\n",
      "image/png": "[encoded data removed]"
     },
     "metadata": {
      "needs_background": "light"
     }
    }
   ],
   "source": [
    "import matplotlib.pyplot as plt \n",
    "import matplotlib.image as mpimg \n",
    "imgplot = plt.imshow(X_train[1800])\n",
    "plt.show()"
   ]
  },
  {
   "cell_type": "code",
   "execution_count": 33,
   "metadata": {},
   "outputs": [
    {
     "output_type": "stream",
     "name": "stdout",
     "text": [
      "[0 1 2 3 4 5 6 7 8 9] [0 1 2 3 4 5 6 7 8 9]\n(28, 28)\n"
     ]
    }
   ],
   "source": [
    "print(np.unique(y_train), np.unique(y_test))\n",
    "print(X_train[0].shape)"
   ]
  },
  {
   "cell_type": "code",
   "execution_count": 34,
   "metadata": {},
   "outputs": [],
   "source": [
    "X_train = X_train.astype(\"float32\") / 255 \n",
    "X_test = X_test.astype(\"float32\") / 255\n",
    "\n",
    "X_train = np.expand_dims(X_train, -1)\n",
    "X_test = np.expand_dims(X_test, -1)"
   ]
  },
  {
   "cell_type": "code",
   "execution_count": 35,
   "metadata": {},
   "outputs": [],
   "source": [
    "y_train = keras.utils.to_categorical(y_train, num_classes)\n",
    "y_test = keras.utils.to_categorical(y_test, num_classes)"
   ]
  },
  {
   "cell_type": "code",
   "execution_count": 41,
   "metadata": {},
   "outputs": [
    {
     "output_type": "stream",
     "name": "stdout",
     "text": [
      "Model: \"sequential_5\"\n_________________________________________________________________\n Layer (type)                Output Shape              Param #   \n=================================================================\n conv2d_10 (Conv2D)          (None, 26, 26, 32)        320       \n                                                                 \n max_pooling2d_10 (MaxPoolin  (None, 13, 13, 32)       0         \n g2D)                                                            \n                                                                 \n conv2d_11 (Conv2D)          (None, 11, 11, 64)        18496     \n                                                                 \n max_pooling2d_11 (MaxPoolin  (None, 5, 5, 64)         0         \n g2D)                                                            \n                                                                 \n conv2d_12 (Conv2D)          (None, 3, 3, 128)         73856     \n                                                                 \n max_pooling2d_12 (MaxPoolin  (None, 1, 1, 128)        0         \n g2D)                                                            \n                                                                 \n flatten_5 (Flatten)         (None, 128)               0         \n                                                                 \n dropout_5 (Dropout)         (None, 128)               0         \n                                                                 \n dense_5 (Dense)             (None, 10)                1290      \n                                                                 \n=================================================================\nTotal params: 93,962\nTrainable params: 93,962\nNon-trainable params: 0\n_________________________________________________________________\n"
     ]
    }
   ],
   "source": [
    "model = keras.Sequential(\n",
    "    [\n",
    "        keras.Input(shape=input_shape),\n",
    "        layers.Conv2D(32, kernel_size=(3, 3), activation=\"relu\"),\n",
    "        layers.MaxPooling2D(pool_size=[2, 2]),\n",
    "        layers.Conv2D(64, kernel_size=(3, 3), activation=\"relu\"),\n",
    "        layers.MaxPooling2D(pool_size=(2, 2)),\n",
    "        layers.Conv2D(128, kernel_size=(3, 3), activation=\"relu\"),\n",
    "        layers.MaxPooling2D(pool_size=(2, 2)),\n",
    "        layers.Flatten(),\n",
    "        layers.Dropout(0.5),\n",
    "        layers.Dense(num_classes, activation=\"softmax\")\n",
    "    ]\n",
    ")\n",
    "model.summary()"
   ]
  },
  {
   "cell_type": "code",
   "execution_count": 46,
   "metadata": {},
   "outputs": [],
   "source": [
    "batch_size = 256\n",
    "epochs = 15\n",
    "model.compile(loss=\"categorical_crossentropy\", optimizer=\"adam\", metrics=[\"accuracy\"])"
   ]
  },
  {
   "cell_type": "code",
   "execution_count": 47,
   "metadata": {},
   "outputs": [
    {
     "output_type": "stream",
     "name": "stdout",
     "text": [
      "Epoch 1/15\n",
      "211/211 [==============================] - 12s 57ms/step - loss: 0.3320 - accuracy: 0.8799 - val_loss: 0.3164 - val_accuracy: 0.8800\n",
      "Epoch 2/15\n",
      "211/211 [==============================] - 12s 58ms/step - loss: 0.3230 - accuracy: 0.8838 - val_loss: 0.3045 - val_accuracy: 0.8848\n",
      "Epoch 3/15\n",
      "211/211 [==============================] - 12s 57ms/step - loss: 0.3128 - accuracy: 0.8860 - val_loss: 0.2944 - val_accuracy: 0.8908\n",
      "Epoch 4/15\n",
      "211/211 [==============================] - 12s 57ms/step - loss: 0.3079 - accuracy: 0.8891 - val_loss: 0.2987 - val_accuracy: 0.8887\n",
      "Epoch 5/15\n",
      "211/211 [==============================] - 12s 55ms/step - loss: 0.2991 - accuracy: 0.8912 - val_loss: 0.2944 - val_accuracy: 0.8907\n",
      "Epoch 6/15\n",
      "211/211 [==============================] - 12s 57ms/step - loss: 0.2945 - accuracy: 0.8937 - val_loss: 0.2882 - val_accuracy: 0.8923\n",
      "Epoch 7/15\n",
      "211/211 [==============================] - 12s 58ms/step - loss: 0.2887 - accuracy: 0.8943 - val_loss: 0.2822 - val_accuracy: 0.8967\n",
      "Epoch 8/15\n",
      "211/211 [==============================] - 12s 56ms/step - loss: 0.2823 - accuracy: 0.8973 - val_loss: 0.2874 - val_accuracy: 0.8957\n",
      "Epoch 9/15\n",
      "211/211 [==============================] - 12s 58ms/step - loss: 0.2758 - accuracy: 0.8995 - val_loss: 0.2807 - val_accuracy: 0.8953\n",
      "Epoch 10/15\n",
      "211/211 [==============================] - 12s 55ms/step - loss: 0.2706 - accuracy: 0.9020 - val_loss: 0.2809 - val_accuracy: 0.8972\n",
      "Epoch 11/15\n",
      "211/211 [==============================] - 12s 57ms/step - loss: 0.2657 - accuracy: 0.9024 - val_loss: 0.2751 - val_accuracy: 0.8988\n",
      "Epoch 12/15\n",
      "211/211 [==============================] - 12s 56ms/step - loss: 0.2587 - accuracy: 0.9061 - val_loss: 0.2853 - val_accuracy: 0.8958\n",
      "Epoch 13/15\n",
      "211/211 [==============================] - 12s 56ms/step - loss: 0.2576 - accuracy: 0.9056 - val_loss: 0.2827 - val_accuracy: 0.8968\n",
      "Epoch 14/15\n",
      "211/211 [==============================] - 12s 57ms/step - loss: 0.2509 - accuracy: 0.9094 - val_loss: 0.2763 - val_accuracy: 0.8977\n",
      "Epoch 15/15\n",
      "211/211 [==============================] - 12s 56ms/step - loss: 0.2492 - accuracy: 0.9090 - val_loss: 0.2809 - val_accuracy: 0.8953\n"
     ]
    },
    {
     "output_type": "execute_result",
     "data": {
      "text/plain": [
       "<keras.callbacks.History at 0x7fb838127ee0>"
      ]
     },
     "metadata": {},
     "execution_count": 47
    }
   ],
   "source": [
    "model.fit(X_train, y_train, batch_size=batch_size, epochs=epochs, validation_split=0.1)"
   ]
  },
  {
   "cell_type": "code",
   "execution_count": 48,
   "metadata": {},
   "outputs": [
    {
     "output_type": "stream",
     "name": "stdout",
     "text": [
      "313/313 [==============================] - 1s 4ms/step - loss: 0.3055 - accuracy: 0.8913\n"
     ]
    }
   ],
   "source": [
    "score = model.evaluate(X_test, y_test)"
   ]
  },
  {
   "cell_type": "code",
   "execution_count": 49,
   "metadata": {},
   "outputs": [
    {
     "output_type": "stream",
     "name": "stdout",
     "text": [
      "Test loss: 0.3055430054664612\nTest accuracy: 0.8913000226020813\n"
     ]
    }
   ],
   "source": [
    "print(f\"Test loss: {score[0]}\")\n",
    "print(f\"Test accuracy: {score[1]}\")"
   ]
  },
  {
   "cell_type": "code",
   "execution_count": 55,
   "metadata": {},
   "outputs": [
    {
     "output_type": "execute_result",
     "data": {
      "text/plain": [
       "array([3.0864275e-08, 1.5894826e-10, 3.6022667e-11, 4.6638275e-09,\n",
       "       2.2951786e-12, 1.7529959e-04, 3.1053243e-11, 2.1922976e-02,\n",
       "       4.7549449e-08, 9.7790170e-01], dtype=float32)"
      ]
     },
     "metadata": {},
     "execution_count": 55
    }
   ],
   "source": [
    "model.predict(X_test)[0]"
   ]
  },
  {
   "cell_type": "code",
   "execution_count": 56,
   "metadata": {},
   "outputs": [
    {
     "output_type": "execute_result",
     "data": {
      "text/plain": [
       "array([0., 0., 0., 0., 0., 0., 0., 0., 0., 1.], dtype=float32)"
      ]
     },
     "metadata": {},
     "execution_count": 56
    }
   ],
   "source": [
    "y_test[0]"
   ]
  },
  {
   "cell_type": "code",
   "execution_count": null,
   "metadata": {},
   "outputs": [],
   "source": []
  }
 ]
}